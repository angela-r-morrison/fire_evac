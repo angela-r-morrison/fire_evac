{
 "cells": [
  {
   "cell_type": "markdown",
   "id": "15b293b6-9f81-4a8a-bc9f-5eb3655227b1",
   "metadata": {},
   "source": [
    "# Test Case Examples"
   ]
  },
  {
   "cell_type": "markdown",
   "id": "0a5a270e-2835-42e9-8eb9-0267ebac0863",
   "metadata": {},
   "source": [
    "##### Import Statements"
   ]
  },
  {
   "cell_type": "code",
   "execution_count": null,
   "id": "0456cf2b-e08f-4751-883f-4e47f9730835",
   "metadata": {},
   "outputs": [],
   "source": [
    "import evacnx as ex\n",
    "import osmnx as ox\n",
    "import matplotlib.pyplot as plt\n",
    "from shapely.geometry import Polygon\n",
    "import geopandas as gpd\n",
    "import contextily as cx\n",
    "import time as time\n",
    "import numpy as np"
   ]
  },
  {
   "cell_type": "markdown",
   "id": "e53f99eb-378b-4909-b733-6587011a1742",
   "metadata": {
    "jp-MarkdownHeadingCollapsed": true
   },
   "source": [
    "## Test Case 1: Lyons, Colorado"
   ]
  },
  {
   "cell_type": "markdown",
   "id": "31f0e914-4b41-452f-8055-19d4c1a06250",
   "metadata": {},
   "source": [
    "### Evacuation Plans"
   ]
  },
  {
   "cell_type": "markdown",
   "id": "532024df-66dd-4973-b402-cab7dd430e10",
   "metadata": {},
   "source": [
    "#### Initial Evacuation Plan"
   ]
  },
  {
   "cell_type": "code",
   "execution_count": null,
   "id": "ab3205db-ec89-4e53-a6f1-7e5c4d583a81",
   "metadata": {},
   "outputs": [],
   "source": [
    "location = 'Lyons Colorado'\n",
    "sup_dem_nodes = [(1,-4000),(30,4000),(4,-4000),(40,4000)]\n",
    "G = ex.construct_orig_graph(location,sup_dem_nodes)\n",
    "fire_origin_radii = [(40.227510,-105.263519,0.15),(40.231862,-105.266485,0.15),(40.228941,-105.264405,0.15),(40.233535,-105.262882,0.07)]\n",
    "# fire_origin_radii = [(40.227381,-105.261359,0.05),(40.231862,-105.266485,0.09),(40.228941,-105.264405,0.09),(40.233535,-105.262882,0.07)]\n",
    "\n",
    "num_time_ints, max_flow, flow_dict, ten_s_t_flow, ten_s_t, rmvd_nodes_mat, edge_dist_mat, fire_poly_mat = ex.det_num_int(G, 1000, fire_origin_radii)\n",
    "print('Number of Time Intervals:',num_time_ints)\n",
    "print('Flow Value:', max_flow)"
   ]
  },
  {
   "cell_type": "markdown",
   "id": "ed56efa3-45e5-407a-8e51-0574020ffea2",
   "metadata": {},
   "source": [
    "#### Update to Evaucation Plan"
   ]
  },
  {
   "cell_type": "code",
   "execution_count": null,
   "id": "80d1e05c-6d29-412f-8258-f8643c2ffa72",
   "metadata": {},
   "outputs": [],
   "source": [
    "time_int_update = 4\n",
    "fire_time_int = 11\n",
    "fire_origin_radii_update = [(40.227510,-105.263519,0.3),(40.231862,-105.266485,0.2),(40.228941,-105.264405,0.2),(40.233535,-105.262882,0.11)]\n",
    "# fire_origin_radii_update = [(40.227381,-105.261359,0.1),(40.231862,-105.266485,0.14),(40.228941,-105.264405,0.2),(40.233535,-105.262882,0.11)]\n",
    "part_ten_s_t, rmvd_nodes_mat_update, edge_dist_mat_update, fire_mat_poly_update, flow_dict_part, flow_value_part = ex.evac_update(ten_s_t, G, \n",
    "                                                                                  rmvd_nodes_mat, edge_dist_mat, fire_poly_mat, time_int_update, \n",
    "                                                                                  fire_time_int, num_time_ints, fire_origin_radii_update, flow_dict)\n",
    "\n",
    "flow_dict_copy = flow_dict.copy()\n",
    "flow_dict_part_copy = flow_dict_part.copy()\n",
    "del flow_dict_part_copy[0]\n",
    "merged_dicts = ex.merge_flow_dicts(flow_dict_copy, flow_dict_part_copy)\n",
    "\n",
    "merged_tens = ex.merg_tens(ten_s_t.copy(), part_ten_s_t.copy())\n",
    "colored_max_flow_ten_merg = ex.color_max_flow(merged_tens.copy(),merged_dicts)    "
   ]
  },
  {
   "cell_type": "markdown",
   "id": "30504f7f-529b-4f42-ac28-9e7b1b8555b7",
   "metadata": {},
   "source": [
    "### Plotting"
   ]
  },
  {
   "cell_type": "code",
   "execution_count": null,
   "id": "4228c041-13b4-4bdf-bf99-ef6717353abb",
   "metadata": {},
   "outputs": [],
   "source": [
    "start_time_int = 15\n",
    "end_time_int = 24\n",
    "interval = True\n",
    "orig_graph = G\n",
    "\n",
    "##### for orignal evac plan plots\n",
    "fire = fire_poly_mat\n",
    "flow_graph = ten_s_t_flow\n",
    "\n",
    "##### for updated evac plan plots\n",
    "# fire = fire_mat_poly_update\n",
    "# flow_graph = colored_max_flow_ten_merg\n",
    "\n",
    "####get data for plotting\n",
    "orig_nodes_len =len(orig_graph.nodes)\n",
    "flow_edges = [(x[0],x[1]) for x in flow_graph.edges(data = True) if flow_graph[x[0]][x[1]]['color'] == (1,0,0)]\n",
    "flow_edges.sort(key=lambda tup: tup[0])\n",
    "orig_flow_edges = ex.flow_at_time_int(flow_graph, flow_edges, orig_graph, end_time_int+1,start_time_int = start_time_int, interval = interval)\n",
    "sup_dem_colors=['blue' if y['sup_dem'] < 0 else 'red' if y['sup_dem'] > 0 else 'black' for x,y in orig_graph.nodes(data=True)]\n",
    "size =[ 130 if y['sup_dem'] != 0 else 15 for x,y in orig_graph.nodes(data=True)]\n",
    "\n",
    "####transform orignal graph data for plotting purposes\n",
    "gdf_nodes = ox.utils_graph.graph_to_gdfs(orig_graph, nodes=True, edges=False, node_geometry=True, fill_edge_geometry=True)\n",
    "orig_crs = gdf_nodes.crs \n",
    "gwm_nodes = gdf_nodes.to_crs(epsg=3857)\n",
    "gdf_edges = ox.utils_graph.graph_to_gdfs(orig_graph, nodes=False, edges=True, node_geometry=True, fill_edge_geometry=True)\n",
    "gwm_edges = gdf_edges.to_crs(epsg=3857)\n",
    "\n",
    "####plot everything\n",
    "fig, ax= plt.subplots(figsize=(10, 10))\n",
    "#### use to zoom in on certain areas of plot\n",
    "# ax.set_xlim(-11718700, -11718000)  # Set x-axis limits\n",
    "# ax.set_ylim(4898100, 4898600)\n",
    "\n",
    "gwm_edges.plot(figsize=(10, 10), alpha=1, edgecolor = 'k',ax = ax)\n",
    "\n",
    "for edge in orig_flow_edges:\n",
    "    gdf_selected_edge = gwm_edges[gwm_edges.index.isin([edge])]\n",
    "    gdf_selected_edge.plot(ax=ax, color='#009E73', linewidth=5)\n",
    "\n",
    "if fire[end_time_int].geom_type == 'Polygon':\n",
    "    ext = gpd.GeoSeries(fire[end_time_int])\n",
    "    ext.crs = orig_crs\n",
    "    gdf = gpd.GeoDataFrame(geometry=ext).to_crs(epsg=3857)\n",
    "    x,y = Polygon(gdf['geometry'].iloc[0]).exterior.xy\n",
    "    ax.fill(x,y,'#E69F00', alpha = 0.5)\n",
    "else:\n",
    "    for geom in fire[end_time_int].geoms:  \n",
    "        ext = gpd.GeoSeries(geom)\n",
    "        ext.crs = orig_crs\n",
    "        gdf = gpd.GeoDataFrame(geometry=ext).to_crs(epsg=3857)\n",
    "        xs, ys = Polygon(gdf['geometry'].iloc[0]).exterior.xy    \n",
    "        ax.fill(xs, ys, alpha=0.5, fc='#E69F00', ec='none')\n",
    "\n",
    "\n",
    "gwm_nodes.plot(figsize=(10, 10), alpha=1, color = [sup_dem_colors[node] for node in gwm_nodes.index], \n",
    "               markersize = [size[node] for node in gwm_nodes.index] ,ax=ax)\n",
    "#### add base map as background\n",
    "cx.add_basemap(ax, source = cx.providers.CartoDB.Positron)\n",
    "\n",
    "ax.axis('off')\n",
    "# plt.savefig('lyons_updated_plan_12.png')\n",
    "plt.show()"
   ]
  },
  {
   "cell_type": "markdown",
   "id": "0829dd6e-e79e-4c84-afbc-bf9f6aeaaf33",
   "metadata": {
    "jp-MarkdownHeadingCollapsed": true
   },
   "source": [
    "## Test Case 2: Butte County, California"
   ]
  },
  {
   "cell_type": "markdown",
   "id": "a776ed07-9432-4628-963f-94bdf7c9e6a5",
   "metadata": {},
   "source": [
    "### Evacuations"
   ]
  },
  {
   "cell_type": "markdown",
   "id": "e386d309-3169-4bd8-b979-f01de4d0c4d2",
   "metadata": {},
   "source": [
    "#### Initial Evacuation Plan"
   ]
  },
  {
   "cell_type": "code",
   "execution_count": null,
   "id": "7201dca5-b34a-4657-8d2d-1fc1adf2ee4a",
   "metadata": {},
   "outputs": [],
   "source": [
    "location_2 = 'Butte County California'\n",
    "sup_dem_nodes_2 = [(800,-500),(4650,-1000),(4060,900),(4050,600)]\n",
    "G_2_butte = ex.construct_orig_graph(location_2,sup_dem_nodes_2,tolerance = 50,verbose = True)\n",
    "fire_origin_radii_2 = [(39.775921, -121.563875, 0.2)]\n",
    "\n",
    "num_time_ints_2, max_flow_2, flow_dict_2, ten_s_t_flow_2_butte, ten_s_t_2, rmvd_nodes_mat_2, edge_dist_mat_2, fire_poly_mat_2_butte = ex.det_num_int(G_2, 1000, fire_origin_radii_2)\n",
    "print('Number of Time Intervals:',num_time_ints_2)\n",
    "print('Flow Value:', max_flow_2)"
   ]
  },
  {
   "cell_type": "code",
   "execution_count": null,
   "id": "59bde113-fd6d-427a-bdbe-39e07b2ba61b",
   "metadata": {},
   "outputs": [],
   "source": [
    "location_2 = 'Paradise California'\n",
    "sup_dem_nodes_2 = [(262,-500),(549,-1000),(520,900),(512,600)]\n",
    "G_2= ex.construct_orig_graph(location_2,sup_dem_nodes_2,tolerance = 50)\n",
    "fire_origin_radii_2 = [(39.775921, -121.563875, 0.2)]\n",
    "\n",
    "num_time_ints_2, max_flow_2, flow_dict_2, ten_s_t_flow_2, ten_s_t_2, rmvd_nodes_mat_2, edge_dist_mat_2, fire_poly_mat_2 = ex.det_num_int(G_2, 1000, fire_origin_radii_2, T = 55)\n",
    "print('Number of Time Intervals:',num_time_ints_2)\n",
    "print('Flow Value:', max_flow_2)"
   ]
  },
  {
   "cell_type": "markdown",
   "id": "1c18e8a1-b9ea-44a7-bed8-60f65db1803e",
   "metadata": {},
   "source": [
    "#### Updated Evacuation Plan"
   ]
  },
  {
   "cell_type": "code",
   "execution_count": null,
   "id": "f7d4e993-8369-4cb5-a945-ab4b4e6ef92c",
   "metadata": {},
   "outputs": [],
   "source": [
    "time_int_update_2 = 5\n",
    "fire_time_int_2 = 10\n",
    "fire_origin_radii_update_2 = [(39.775921, -121.563875, 0.4), (39.767279, -121.559069, 0.85)]\n",
    "part_ten_s_t_2, rmvd_nodes_mat_update_2, edge_dist_mat_update_2, fire_mat_poly_update_2, flow_dict_part_2, flow_value_part_2 = ex.evac_update(ten_s_t_2, G_2, \n",
    "                                                                                  rmvd_nodes_mat_2, edge_dist_mat_2, fire_poly_mat_2, time_int_update_2, \n",
    "                                                                                  fire_time_int_2, num_time_ints_2, fire_origin_radii_update_2, flow_dict_2)\n",
    "\n",
    "flow_dict_copy_2 = flow_dict_2.copy()\n",
    "flow_dict_part_copy_2 = flow_dict_part_2.copy()\n",
    "del flow_dict_part_copy_2[0]\n",
    "merged_dicts_2 = ex.merge_flow_dicts(flow_dict_copy_2, flow_dict_part_copy_2)\n",
    "\n",
    "merged_tens_2 = ex.merg_tens(ten_s_t_2.copy(), part_ten_s_t_2.copy())\n",
    "colored_max_flow_ten_merg_2 = ex.color_max_flow(merged_tens_2.copy(),merged_dicts_2)"
   ]
  },
  {
   "cell_type": "markdown",
   "id": "6fa96604-ddc6-4695-8672-af92030b8edc",
   "metadata": {},
   "source": [
    "### Plotting"
   ]
  },
  {
   "cell_type": "code",
   "execution_count": null,
   "id": "c7e72b06-e6b0-44d6-8423-f74351f9ee0a",
   "metadata": {},
   "outputs": [],
   "source": [
    "start_time_int = 0\n",
    "end_time_int = 30\n",
    "interval = False\n",
    "orig_graph = G_2\n",
    "\n",
    "##### for orignal evac plan plots\n",
    "fire = fire_poly_mat_2\n",
    "flow_graph = ten_s_t_flow_2\n",
    "\n",
    "##### for updated evac plan plots\n",
    "# fire = fire_mat_poly_update_2\n",
    "# flow_graph = colored_max_flow_ten_merg_2\n",
    "\n",
    "####get data for plotting\n",
    "orig_nodes_len =len(orig_graph.nodes)\n",
    "flow_edges = [(x[0],x[1]) for x in flow_graph.edges(data = True) if flow_graph[x[0]][x[1]]['color'] == (1,0,0)]\n",
    "flow_edges.sort(key=lambda tup: tup[0])\n",
    "orig_flow_edges = ex.flow_at_time_int(flow_graph, flow_edges, orig_graph, end_time_int+1,start_time_int = start_time_int, interval = interval)\n",
    "sup_dem_colors=['blue' if y['sup_dem'] < 0 else 'red' if y['sup_dem'] > 0 else 'black' for x,y in orig_graph.nodes(data=True)]\n",
    "size =[ 70 if y['sup_dem'] != 0 else 2 for x,y in orig_graph.nodes(data=True)]\n",
    "\n",
    "####transform orignal graph data for plotting purposes\n",
    "gdf_nodes = ox.utils_graph.graph_to_gdfs(orig_graph, nodes=True, edges=False, node_geometry=True, fill_edge_geometry=True)\n",
    "orig_crs = gdf_nodes.crs \n",
    "gwm_nodes = gdf_nodes.to_crs(epsg=3857)\n",
    "gdf_edges = ox.utils_graph.graph_to_gdfs(orig_graph, nodes=False, edges=True, node_geometry=True, fill_edge_geometry=True)\n",
    "gwm_edges = gdf_edges.to_crs(epsg=3857)\n",
    "\n",
    "####plot everything\n",
    "fig, ax= plt.subplots(figsize=(10, 10))\n",
    "####used to zoom in on area of plot\n",
    "# ax.set_xlim(-13540000, -13527500)  # Set x-axis limits\n",
    "# ax.set_ylim(4825500, 4837000)  # Set y-axis limits\n",
    "\n",
    "gwm_edges.plot(alpha=1, edgecolor = 'k', ax = ax, zorder = 2)\n",
    "\n",
    "for edge in orig_flow_edges:\n",
    "    gdf_selected_edge = gwm_edges[gwm_edges.index.isin([edge])]\n",
    "    gdf_selected_edge.plot(ax=ax, color='#009E73', linewidth=4, zorder = 5)\n",
    "\n",
    "if fire[end_time_int].geom_type == 'Polygon':\n",
    "    ext = gpd.GeoSeries(fire[end_time_int])\n",
    "    ext.crs = orig_crs\n",
    "    gdf = gpd.GeoDataFrame(geometry=ext).to_crs(epsg=3857)\n",
    "    x,y = Polygon(gdf['geometry'].iloc[0]).exterior.xy\n",
    "    ax.fill(x,y,'#E69F00', alpha = 0.5, zorder = 5)\n",
    "else:\n",
    "    for geom in fire[end_time_int].geoms:  \n",
    "        ext = gpd.GeoSeries(geom)\n",
    "        ext.crs = orig_crs\n",
    "        gdf = gpd.GeoDataFrame(geometry=ext).to_crs(epsg=3857)\n",
    "        xs, ys = Polygon(gdf['geometry'].iloc[0]).exterior.xy    \n",
    "        ax.fill(xs, ys, alpha=0.5, fc='#E69F00', ec='none', zorder = 5)\n",
    "\n",
    "\n",
    "gwm_nodes.plot(figsize=(10, 10), alpha=1, color = [sup_dem_colors[node] for node in gwm_nodes.index], \n",
    "               markersize = [size[node] for node in gwm_nodes.index] ,ax=ax, zorder = 3)\n",
    "#### add map to background\n",
    "cx.add_basemap(ax, source = cx.providers.CartoDB.Positron, zorder = 1)\n",
    "\n",
    "ax.axis('off')\n",
    "# plt.savefig('paradise_updated_t_11.png')\n",
    "plt.show()"
   ]
  },
  {
   "cell_type": "markdown",
   "id": "dbc546fa-5a7e-4cc4-9a71-cf754d55ff50",
   "metadata": {
    "jp-MarkdownHeadingCollapsed": true
   },
   "source": [
    "## Test Case 3: Alexandroupolis Greece"
   ]
  },
  {
   "cell_type": "markdown",
   "id": "49594771-54a4-476d-a83c-5f0388cf42a2",
   "metadata": {
    "jp-MarkdownHeadingCollapsed": true
   },
   "source": [
    "### Evacuations"
   ]
  },
  {
   "cell_type": "markdown",
   "id": "f97b9e29-bd9a-4221-b41f-e7818eac7466",
   "metadata": {},
   "source": [
    "#### Initial Evacuation Plan"
   ]
  },
  {
   "cell_type": "code",
   "execution_count": null,
   "id": "a7fcb94c-2aa8-4be2-9aac-83bfa7ab8a47",
   "metadata": {},
   "outputs": [],
   "source": [
    "location_3 = ox.geocode_to_gdf(\"Alexandroupolis Greece\")\n",
    "# sup_dem_nodes_3 = [(1056,1500),(1095,2500),(1078,1000),(10,-5000)]\n",
    "sup_dem_nodes_3 = [(1013,1500),(1042,2500),(1031,1000),(10,-5000)] ## dist = 2000\n",
    "G_3 = ex.construct_orig_graph(location_3,sup_dem_nodes_3,distance = 2000)\n",
    "fire_origin_radii_3 = [(40.864346, 25.863716, 0.1), (40.857190, 25.881404, 0.06), (40.862659, 25.862857,0.06), (40.863632,25.857021,0.09)]\n",
    "# fire_origin_radii_3 = [(40.864346, 25.863716, 0.1), (40.864801, 25.859081, 0.1), (40.862659, 25.862857,0.06), (40.863632,25.857021,0.09)]\n",
    "\n",
    "num_time_ints_3, max_flow_3, flow_dict_3, ten_s_t_flow_3, ten_s_t_3, rmvd_nodes_mat_3, edge_dist_mat_3, fire_poly_mat_3 = ex.det_num_int(G_3, 1000, fire_origin_radii_3)\n",
    "print('Number of Time Intervals:',num_time_ints_3)\n",
    "print('Flow Value:', max_flow_3)"
   ]
  },
  {
   "cell_type": "markdown",
   "id": "3e82cd4b-4414-4c30-a6d2-f7292f037fb0",
   "metadata": {
    "jp-MarkdownHeadingCollapsed": true
   },
   "source": [
    "#### Updated Evacuation Plan"
   ]
  },
  {
   "cell_type": "code",
   "execution_count": null,
   "id": "c42d5af9-9d19-4eaf-87ef-2ccf8c4bd874",
   "metadata": {},
   "outputs": [],
   "source": [
    "### 2 Updates\n",
    "time_ints_3 = [5,20]\n",
    "fire_times_3 = [10,25]\n",
    "fires = [[(40.864346, 25.863716, 0.25), (40.857190, 25.881404, 0.12), (40.862659, 25.862857,0.2), (40.863632,25.857021,0.25), (40.854630, 25.896757, 0.06)],\n",
    "         [(40.864346, 25.863716, 0.3), (40.857190, 25.881404, 0.18), (40.862659, 25.862857,0.25), (40.863632,25.857021,0.35), (40.854630, 25.896757, 0.12)]]\n",
    "nodes_mat = rmvd_nodes_mat_3.copy()\n",
    "edges_mat = edge_dist_mat_3.copy()\n",
    "fire_mat = fire_poly_mat_3.copy()\n",
    "orig_net = ten_s_t_3.copy()\n",
    "flow = flow_dict_3.copy()\n",
    "for i in range(len(time_ints_3)):\n",
    "    time_int_update_3 = time_ints_3[i]\n",
    "    fire_time_int_3 = fire_times_3[i]\n",
    "    fire_origin_radii_update_3 = fires[i]\n",
    "    part_ten_s_t_3, rmvd_nodes_mat_update_3, edge_dist_mat_update_3, fire_mat_poly_update_3, flow_dict_part_3, flow_value_part_3 = ex.evac_update(orig_net,\n",
    "                                                                                          G_3, nodes_mat, edges_mat, fire_mat,\n",
    "                                                                                          time_int_update_3, fire_time_int_3, num_time_ints_3, \n",
    "                                                                                          fire_origin_radii_update_3, flow)\n",
    "\n",
    "    print(flow_value_part_3)\n",
    "\n",
    "    flow_dict_copy_3 = flow_dict_3.copy()\n",
    "    flow_dict_part_copy_3 = flow_dict_part_3.copy()\n",
    "    del flow_dict_part_copy_3[0]\n",
    "    merged_dicts_3 = ex.merge_flow_dicts(flow_dict_copy_3, flow_dict_part_copy_3)\n",
    "    flow = merged_dicts_3.copy()\n",
    "\n",
    "    merged_tens_3 = ex.merg_tens(orig_net.copy(), part_ten_s_t_3.copy())\n",
    "    \n",
    "    orig_net = merged_tens_3.copy()\n",
    "    nodes_mat = rmvd_nodes_mat_update_3.copy()\n",
    "    edges_mat = edge_dist_mat_update_3.copy()\n",
    "    fire_mat = fire_mat_poly_update_3.copy()\n",
    "    end = time.time()\n",
    "\n",
    "colored_max_flow_ten_merg_3 = ex.color_max_flow(orig_net.copy(),flow)"
   ]
  },
  {
   "cell_type": "markdown",
   "id": "b8ccc7a5-7381-42f7-bd2d-856e6a55df79",
   "metadata": {
    "jp-MarkdownHeadingCollapsed": true
   },
   "source": [
    "### Plotting"
   ]
  },
  {
   "cell_type": "code",
   "execution_count": null,
   "id": "cd47a52d-4132-472a-a166-660533edff01",
   "metadata": {},
   "outputs": [],
   "source": [
    "start_time_int = 0\n",
    "end_time_int = 48\n",
    "interval = True\n",
    "orig_graph = G_3\n",
    "\n",
    "##### for orignal evac plan plots\n",
    "# fire = fire_poly_mat_3\n",
    "# flow_graph = ten_s_t_flow_3\n",
    "\n",
    "##### for updated evac plan plots\n",
    "fire = fire_mat_poly_update_3\n",
    "flow_graph = colored_max_flow_ten_merg_3\n",
    "\n",
    "####get data for plotting\n",
    "orig_nodes_len =len(orig_graph.nodes)\n",
    "flow_edges = [(x[0],x[1]) for x in flow_graph.edges(data = True) if flow_graph[x[0]][x[1]]['color'] == (1,0,0)]\n",
    "flow_edges.sort(key=lambda tup: tup[0])\n",
    "orig_flow_edges = ex.flow_at_time_int(flow_graph, flow_edges, orig_graph, end_time_int+1, start_time_int = start_time_int, interval = interval)\n",
    "sup_dem_colors=['blue' if y['sup_dem'] < 0 else 'red' if y['sup_dem'] > 0 else 'black' for x,y in orig_graph.nodes(data=True)]\n",
    "size =[ 70 if y['sup_dem'] != 0 else 2 for x,y in orig_graph.nodes(data=True)]\n",
    "\n",
    "\n",
    "####transform orignal graph data for plotting purposes\n",
    "gdf_nodes = ox.utils_graph.graph_to_gdfs(orig_graph, nodes=True, edges=False, node_geometry=True, fill_edge_geometry=True)\n",
    "orig_crs = gdf_nodes.crs \n",
    "gwm_nodes = gdf_nodes.to_crs(epsg=3857)\n",
    "gdf_edges = ox.utils_graph.graph_to_gdfs(orig_graph, nodes=False, edges=True, node_geometry=True, fill_edge_geometry=True)\n",
    "gwm_edges = gdf_edges.to_crs(epsg=3857)\n",
    "\n",
    "####plot everything\n",
    "fig, ax= plt.subplots(figsize=(10, 10))\n",
    "### use to zoom in on aprt of plot\n",
    "# ax.set_xlim(2883000, 2885000)  # Set x-axis limits\n",
    "# ax.set_ylim(4994250, 4995800)  # Set y-axis limits\n",
    "\n",
    "gwm_edges.plot(figsize=(10, 10), alpha=1, edgecolor = 'k',linewidth = 2, ax = ax)\n",
    "\n",
    "for edge in orig_flow_edges:\n",
    "    gdf_selected_edge = gwm_edges[gwm_edges.index.isin([edge])]\n",
    "    gdf_selected_edge.plot(ax=ax, color='#009E73', linewidth=4)\n",
    "\n",
    "if fire[end_time_int].geom_type == 'Polygon':\n",
    "    ext = gpd.GeoSeries(fire[end_time_int])\n",
    "    ext.crs = orig_crs\n",
    "    gdf = gpd.GeoDataFrame(geometry=ext).to_crs(epsg=3857)\n",
    "    x,y = Polygon(gdf['geometry'].iloc[0]).exterior.xy\n",
    "    ax.fill(x,y,'#E69F00', alpha = 0.5)\n",
    "else:\n",
    "    for geom in fire[end_time_int].geoms:  \n",
    "        ext = gpd.GeoSeries(geom)\n",
    "        ext.crs = orig_crs\n",
    "        gdf = gpd.GeoDataFrame(geometry=ext).to_crs(epsg=3857)\n",
    "        xs, ys = Polygon(gdf['geometry'].iloc[0]).exterior.xy    \n",
    "        ax.fill(xs, ys, alpha=0.5, fc='#E69F00', ec='none')\n",
    "\n",
    "\n",
    "gwm_nodes.plot(figsize=(10, 10), alpha=1, color = [sup_dem_colors[node] for node in gwm_nodes.index], \n",
    "               markersize = [size[node] for node in gwm_nodes.index] ,ax=ax)\n",
    "#### map as background\n",
    "cx.add_basemap(ax, source = cx.providers.CartoDB.Positron)\n",
    "\n",
    "ax.axis('off')\n",
    "# plt.savefig('greece_updated_plan_2.png')\n",
    "plt.show()"
   ]
  }
 ],
 "metadata": {
  "kernelspec": {
   "display_name": "Python 3 (ipykernel)",
   "language": "python",
   "name": "python3"
  },
  "language_info": {
   "codemirror_mode": {
    "name": "ipython",
    "version": 3
   },
   "file_extension": ".py",
   "mimetype": "text/x-python",
   "name": "python",
   "nbconvert_exporter": "python",
   "pygments_lexer": "ipython3",
   "version": "3.11.5"
  }
 },
 "nbformat": 4,
 "nbformat_minor": 5
}
